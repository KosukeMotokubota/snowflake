{
 "cells": [
  {
   "cell_type": "markdown",
   "id": "ef188d49-0711-4708-99bd-98793fa29267",
   "metadata": {
    "collapsed": false,
    "name": "cell7"
   },
   "source": [
    "# 🧑‍💻 Notebookを使って分析してみよう\n",
    "Snowflake Notebooksはデータサイエンス、ML、およびデータエンジニアリングのワークロードで、Snowflakeデータをこれまで以上に迅速かつ容易に活用できるようにする、統一されたセルベースの対話型開発環境です。\n",
    "\n",
    "セルは次の言語をサポートしています: Python (デフォルト)、SQL、Markdown (メモ)"
   ]
  },
  {
   "cell_type": "markdown",
   "id": "ea2627c5-45af-468c-8f0f-4ffd8e981faf",
   "metadata": {
    "collapsed": false,
    "name": "cell1"
   },
   "source": [
    "## ✅ Step1 - ワークシートで取得したデータをNotebookで確認\n",
    "Notebookではワークシートで取得したデータを、SQLを使用して取得することができます。今回はワークシートで作成したビュー (DAILY_WEATHER_VIEW)から2022年2月のドイツのハンブルクの降水量と最大瞬間風速を取得します。\n"
   ]
  },
  {
   "cell_type": "code",
   "execution_count": null,
   "id": "c695373e-ac74-4b62-a1f1-08206cbd5c81",
   "metadata": {
    "codeCollapsed": false,
    "collapsed": false,
    "language": "sql",
    "name": "cell2"
   },
   "outputs": [],
   "source": [
    "SELECT\n",
    "    dw.country_desc,\n",
    "    dw.city_name,\n",
    "    dw.date_valid_std,\n",
    "    MAX(dw.max_wind_speed_100m_mph) AS max_wind_speed_100m_mph,\n",
    "    AVG(dw.tot_precipitation_in) AS tot_precipitation_in\n",
    "FROM harmonized.daily_weather_v dw\n",
    "WHERE 1=1\n",
    "    AND dw.country_desc IN ('Germany')\n",
    "    AND dw.city_name = 'Hamburg'\n",
    "    AND YEAR(date_valid_std) = '2022'\n",
    "    AND MONTH(date_valid_std) = '2' -- 2月\n",
    "GROUP BY dw.country_desc, dw.city_name, dw.date_valid_std\n",
    "ORDER BY dw.date_valid_std ASC;"
   ]
  },
  {
   "cell_type": "markdown",
   "id": "dd175c44-329a-4cec-b430-916e77e5bc3d",
   "metadata": {
    "collapsed": false,
    "name": "cell8"
   },
   "source": [
    "## ✅ Step2 - Pythonで分析対象になるテーブルを準備\n",
    "上記でマーケットプレイスから取得したデータ使って作成したテーブルに対して、ドイツのハンブルクでの2022年2月の売上高データを追加"
   ]
  },
  {
   "cell_type": "code",
   "execution_count": null,
   "id": "85264740-3e8b-4b82-bfc0-4603a9502033",
   "metadata": {
    "codeCollapsed": false,
    "collapsed": false,
    "language": "sql",
    "name": "cell3"
   },
   "outputs": [],
   "source": [
    "SELECT\n",
    "    fd.date_valid_std AS date,\n",
    "    fd.city_name,\n",
    "    fd.country_desc,\n",
    "    ZEROIFNULL(SUM(odv.price)) AS daily_sales,\n",
    "    ROUND(AVG(fd.avg_temperature_air_2m_f),2) AS avg_temperature_fahrenheit,\n",
    "    ROUND(AVG(demo_db.analytics.fahrenheit_to_celsius(fd.avg_temperature_air_2m_f)),2) AS avg_temperature_celsius,\n",
    "    ROUND(AVG(fd.tot_precipitation_in),2) AS avg_precipitation_inches,\n",
    "    ROUND(AVG(demo_db.analytics.inch_to_millimeter(fd.tot_precipitation_in)),2) AS avg_precipitation_millimeters,\n",
    "    MAX(fd.max_wind_speed_100m_mph) AS max_wind_speed_100m_mph\n",
    "FROM harmonized.daily_weather_v fd\n",
    "LEFT JOIN harmonized.orders_v odv\n",
    "    ON fd.date_valid_std = DATE(odv.order_ts)\n",
    "    AND fd.city_name = odv.primary_city\n",
    "    AND fd.country_desc = odv.country\n",
    "WHERE 1=1\n",
    "    AND fd.country_desc = 'Germany'\n",
    "    AND fd.city = 'Hamburg'\n",
    "    AND fd.yyyy_mm = '2022-02'\n",
    "GROUP BY fd.date_valid_std, fd.city_name, fd.country_desc\n",
    "ORDER BY fd.date_valid_std ASC;"
   ]
  },
  {
   "cell_type": "markdown",
   "id": "b9cd67de-86b9-4b71-88dc-597abdb90bd6",
   "metadata": {
    "collapsed": false,
    "name": "cell9"
   },
   "source": [
    "## ✅ Step3 - SQLで作成したテーブルをPythonのPandasに簡単に変換\n",
    "ワークシートやNotebook上でSQLで作成したテーブルを、PythonのPandas型に簡単に変換することができます。"
   ]
  },
  {
   "cell_type": "code",
   "execution_count": null,
   "id": "c346ae2c-6d29-4ad5-87de-fc44f63072e2",
   "metadata": {
    "language": "python",
    "name": "cell6"
   },
   "outputs": [],
   "source": [
    "df = cell3.to_pandas()\n",
    "\n",
    "df.head()"
   ]
  },
  {
   "cell_type": "markdown",
   "id": "89e142b8-884a-4167-956a-7d7472811c04",
   "metadata": {
    "collapsed": false,
    "name": "cell10"
   },
   "source": [
    "## ✅ Step4 - Pythonを使用して準備したデータを簡単に可視化\n",
    "ワークシートやNotebookで集計したデータをPythonを使って簡単に分析できます。"
   ]
  },
  {
   "cell_type": "code",
   "execution_count": null,
   "id": "6ff77ef6-0554-4880-a944-cb34da84fbc3",
   "metadata": {
    "codeCollapsed": false,
    "language": "python",
    "name": "cell5"
   },
   "outputs": [],
   "source": [
    "import pandas as pd\n",
    "import matplotlib.pyplot as plt\n",
    "from matplotlib.ticker import FuncFormatter\n",
    "import matplotlib as mpl\n",
    "from snowflake.snowpark.context import get_active_session\n",
    "\n",
    "session = get_active_session()\n",
    "\n",
    "# データ前処理 ----------------------------------------------------------\n",
    "df.columns = df.columns.str.strip().str.lower()\n",
    "df = df.loc[:, ~df.columns.duplicated()]  # 重複した列の処理\n",
    "df[\"date\"] = pd.to_datetime(df[\"date\"])\n",
    "df = df.sort_values(\"date\")\n",
    "df[\"daily_sales\"] = df[\"daily_sales\"].round(-6) # 100万$単位\n",
    "\n",
    "# 背景スタイル----------------------------------------------------------\n",
    "for style in (\"seaborn-v0_8-whitegrid\", \"seaborn-whitegrid\", \"ggplot\"):\n",
    "    if style in mpl.style.available:\n",
    "        plt.style.use(style); break\n",
    "\n",
    "plt.rcParams.update({\n",
    "    \"font.size\": 9,\n",
    "    \"axes.grid\": False,                \n",
    "    \"axes.spines.right\": False,        \n",
    "})\n",
    "\n",
    "fig, ax_sales = plt.subplots(figsize=(10, 5))\n",
    "fig.subplots_adjust(right=0.84)         \n",
    "ax_sales.set_facecolor(\"white\"); fig.patch.set_facecolor(\"white\")\n",
    "\n",
    "# 売上（左軸）----------------------------------------------------------\n",
    "ax_sales.plot(df[\"date\"], df[\"daily_sales\"],\n",
    "              label=\"Daily Sales ($)\",\n",
    "              color=\"#1f77b4\", lw=2, marker=\"o\", ms=4, zorder=4)\n",
    "ax_sales.set_ylabel(\"Daily Sales ($)\")\n",
    "ax_sales.yaxis.set_major_formatter(FuncFormatter(lambda x,_: f\"{x/1e6:.0f} M\"))\n",
    "ax_sales.tick_params(axis=\"y\", labelcolor=\"#1f77b4\")\n",
    "\n",
    "ax_sales.grid(axis=\"y\", linestyle=\"--\", lw=0.4, color=\"grey\", alpha=0.5, zorder=0)\n",
    "\n",
    "# 降水量（右：内側） -----------------------------------------------------\n",
    "ax_prec = ax_sales.twinx()\n",
    "ax_prec.spines.right.set_position((\"axes\", 1.0)) \n",
    "ax_prec.bar(df[\"date\"], df[\"avg_precipitation_millimeters\"],\n",
    "            width=0.8, color=\"#177c1c\", alpha=0.35,\n",
    "            label=\"Precipitation (mm)\", zorder=1)\n",
    "ax_prec.set_ylabel(\"Precipitation (mm)\")\n",
    "ax_prec.tick_params(axis=\"y\", labelcolor=\"#177c1c\", pad=4)\n",
    "# 副軸スパイン＆グリッドを消去\n",
    "ax_prec.spines[\"right\"].set_visible(False)\n",
    "ax_prec.grid(False)\n",
    "\n",
    "# 風速（右：外側 2 本目） ---------------------------------------------------\n",
    "ax_wind = ax_sales.twinx()\n",
    "ax_wind.spines.right.set_position((\"axes\", 1.08)) \n",
    "ax_wind.plot(df[\"date\"], df[\"max_wind_speed_100m_mph\"],\n",
    "             label=\"Max Wind Speed (mph)\",\n",
    "             color=\"#d62728\", lw=1.6, ls=\"--\", marker=\"x\", ms=5, zorder=3)\n",
    "ax_wind.set_ylabel(\"Wind Speed (mph)\")\n",
    "ax_wind.tick_params(axis=\"y\", labelcolor=\"#d62728\")\n",
    "\n",
    "ax_wind.spines[\"right\"].set_color(\"#d62728\")\n",
    "ax_wind.grid(False)\n",
    "\n",
    "# 凡例 ----------------------------------------------------------------------\n",
    "lines, labels = [], []\n",
    "for ax in (ax_sales, ax_prec, ax_wind):\n",
    "    l, lab = ax.get_legend_handles_labels()\n",
    "    lines += l; labels += lab\n",
    "leg = ax_sales.legend(lines, labels, loc=\"upper left\",\n",
    "                      frameon=True, framealpha=1,\n",
    "                      bbox_to_anchor=(0.02, 0.98))\n",
    "leg.get_frame().set_facecolor(\"white\")\n",
    "leg.get_frame().set_edgecolor(\"none\")\n",
    "\n",
    "# X 軸：日付ラベル ------------------------------------------------------------\n",
    "ax_sales.set_xlim(df[\"date\"].min(), df[\"date\"].max())  \n",
    "ax_sales.tick_params(axis=\"x\", rotation=45, pad=3)      \n",
    "\n",
    "# タイトル -------------------------------------------------------------------\n",
    "plt.title(\"Weather vs Food-truck Sales — Hamburg, Feb 2022\", weight=\"bold\")\n",
    "plt.xticks(rotation=45)\n",
    "plt.tight_layout()\n",
    "plt.show()\n"
   ]
  },
  {
   "cell_type": "code",
   "execution_count": null,
   "id": "2aa97afe-4a9c-4e60-92f4-6a43eed61628",
   "metadata": {
    "codeCollapsed": false,
    "language": "python",
    "name": "cell4"
   },
   "outputs": [],
   "source": [
    "import matplotlib.pyplot as plt\n",
    "import numpy as np\n",
    "from sklearn.linear_model import LinearRegression\n",
    "\n",
    "cols = ['daily_sales','avg_precipitation_millimeters','max_wind_speed_100m_mph']\n",
    "\n",
    "# 画面のレイアウト整形\n",
    "plt.rcParams.update({'font.size': 8})\n",
    "fig, (ax_hm, ax_sc) = plt.subplots(\n",
    "    1, 2, figsize=(8, 3.5), dpi=110   # 1 行 2 列レイアウト\n",
    ")\n",
    "\n",
    "# 1.相関ヒートマップ ------------------------------------------------------\n",
    "corr = df[cols].corr()\n",
    "im = ax_hm.imshow(corr, cmap='coolwarm', vmin=-1, vmax=1)\n",
    "ax_hm.set_xticks(range(len(cols))); ax_hm.set_yticks(range(len(cols)))\n",
    "ax_hm.set_xticklabels(cols, rotation=45, ha='right')\n",
    "ax_hm.set_yticklabels(cols)\n",
    "for i in range(len(cols)):\n",
    "    for j in range(len(cols)):\n",
    "        ax_hm.text(j, i, f'{corr.iloc[i, j]:.2f}',\n",
    "                   ha='center', va='center', color='black', fontsize=7)\n",
    "ax_hm.set_title('Correlation')\n",
    "\n",
    "# 2. 重回帰：実測 vs 予測 -------------------------------------------------\n",
    "X = df[['avg_precipitation_millimeters', 'max_wind_speed_100m_mph']]\n",
    "y = df['daily_sales']\n",
    "model = LinearRegression().fit(X, y)\n",
    "y_pred = model.predict(X)\n",
    "\n",
    "ax_sc.scatter(y, y_pred, s=12, alpha=0.7)\n",
    "lim = [min(y.min(), y_pred.min()), max(y.max(), y_pred.max())]\n",
    "ax_sc.plot(lim, lim, 'k--', lw=0.8)\n",
    "ax_sc.set_xlabel('Actual ($)'); ax_sc.set_ylabel('Predicted ($)')\n",
    "ax_sc.set_title(f'Actual vs Predicted (R² = {model.score(X, y):.2f})')\n",
    "\n",
    "fig.colorbar(im, ax=ax_hm, fraction=0.046)\n",
    "\n",
    "plt.tight_layout()\n",
    "plt.show()\n",
    "\n",
    "print('Coefficients ($/unit):',\n",
    "      {c: round(v) for c, v in zip(X.columns, model.coef_)})\n",
    "print('Intercept ($):', round(model.intercept_))"
   ]
  }
 ],
 "metadata": {
  "kernelspec": {
   "display_name": "Streamlit Notebook",
   "name": "streamlit"
  },
  "lastEditStatus": {
   "authorEmail": "kosuke.motokubota@snowflake.com",
   "authorId": "329025075200",
   "authorName": "KMOTOKUBOTA",
   "lastEditTime": 1749100055419,
   "notebookId": "md3pgeaq76indgjshy3c",
   "sessionId": "bea2a2dc-bcf3-4934-a657-40606d6457b2"
  }
 },
 "nbformat": 4,
 "nbformat_minor": 5
}
